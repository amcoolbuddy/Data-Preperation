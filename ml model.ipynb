{
 "cells": [
  {
   "cell_type": "markdown",
   "id": "9e28e439-b7ef-4760-a15e-2ab2ef69d9c3",
   "metadata": {},
   "source": [
    "# Model Building"
   ]
  },
  {
   "cell_type": "markdown",
   "id": "b96e2415-0b0d-40fc-8252-7d7dcc4cddea",
   "metadata": {},
   "source": [
    "## Define the problem and get the data"
   ]
  },
  {
   "cell_type": "markdown",
   "id": "d4d8e15b-02ae-437c-9a3f-81608dc48685",
   "metadata": {},
   "source": [
    "## Exploratory Data Analysis(EDA)\n",
    "\n",
    "- Exploratory data analysis is crucial initial step in data science projects. It involvesanalyzing and visualyzing data to understand its key characteristics, uncover patterns, and identify relationship between variables refers to the method of studying and exploring record sets to apprehend their predominant traints, discover patterns, locate outliers, and identify relationships between variables. EDA is normally carried out as a preliminary step before undertaking extra formal statistical analysis or modeling.\n",
    "\n",
    "- Data inspection(head,tail,dtypes, size, describe,isnull,isna,shape )\n",
    "- Data visualization\n",
    "- Summary Statistics(Calculate mean, mode on numerical features)\n",
    "- Summary Statistics(Calculate Frequency counts for categorical features)\n",
    "- Feature relationship\n",
    "- Outlier Detection"
   ]
  },
  {
   "cell_type": "markdown",
   "id": "c5b67cb4-00a7-4f27-b5d1-3cef0e64df29",
   "metadata": {},
   "source": [
    "### Data Preprocessing\n",
    "\n",
    "- Data preprocessing is a process of preparing the raw data and making it suitable for machine learning model. It is the first and crucial step while creating a machine learning model.\n",
    "- The real world data contains noises, missing values, duplicate values, and maybe in an unusable format which cannot be directly given to machine to train itan build a model. Data preprocessing required tasks for cleaning the data and make it suitable for machine learning model which also increases the accuracy the efficiency of a machine learning model."
   ]
  },
  {
   "cell_type": "markdown",
   "id": "8017d6f8-5505-4494-bfdd-03c0a9f33379",
   "metadata": {},
   "source": [
    "#### Data cleaning\n",
    "\n",
    "- Handling missing values\n",
    "- Dealing with outliers\n",
    "- Removing duplicates\n",
    "  "
   ]
  },
  {
   "cell_type": "markdown",
   "id": "1c4fcfa0-482b-4a2d-b37a-8829bb9aeed6",
   "metadata": {},
   "source": [
    "#### Data Transformation \n",
    "\n",
    "- Feature Scaling\n",
    "- Normalization\n",
    "- Encoding categorical features\n",
    "- Handling date and time variables\n",
    "- Handling text data "
   ]
  },
  {
   "cell_type": "markdown",
   "id": "52d932b8-a434-46e6-a47d-24a5e2225e65",
   "metadata": {},
   "source": [
    "### Data splitting\n",
    "\n",
    "- Testing data\n",
    "- Training data\n",
    "- Validation data"
   ]
  },
  {
   "cell_type": "markdown",
   "id": "b6404a24-6d89-491b-808c-52d4aaab906d",
   "metadata": {},
   "source": [
    "#### Feature Engineering\n",
    "\n",
    "- Creating New features\n",
    "- Selecting Relevant Features"
   ]
  },
  {
   "cell_type": "markdown",
   "id": "109b049d-0589-42b3-b4dc-c0ab757a44ed",
   "metadata": {},
   "source": [
    "### Model Selection\n",
    "\n",
    "- Model selection is an essential phase in the development of powerful and precise predictive models. Model selection is the process of deciding which algorithm and model architecture is best suited for a particular task or dataset.In machine learning, the process of selecting the top model or algorithm from a list of potential models to address a certain issue is referred to as model selection. Following steps are frequently included in the model selection process:\n",
    "- Problem Formulation\n",
    "- Candidate model selection\n",
    "- Performance evaluation\n",
    "- Training and evaluation\n",
    "- Model comparison\n",
    "- Hyperparameter tuning\n",
    "- Final model selection\n",
    "  \n",
    "\n",
    "- Linear regression , Logistic regression \n",
    "- Random forest , Decision tree, Support vector machine, etc\n",
    "- Q- learning, BGN"
   ]
  },
  {
   "cell_type": "markdown",
   "id": "ddeaac15-1e01-4c5a-bf93-054e67d5b33d",
   "metadata": {},
   "source": [
    "### Model Training\n",
    "-Model trainig is a the process of feeding engineered data to parameterized machine learning algorithms in order to output a model with optimal learned trainable parameters that minimize an objective function.\n",
    "\n",
    "- Model training aims to build the best mathematical representation of the relationship between data and a target , or among the data itself . Metrics such as accuracy define how well the model has learned this representation , i.e. they report the model's performance.\n",
    "\n",
    "- Train model on training data\n",
    "- Hyperparameter tuning\n",
    "- Cross validation"
   ]
  },
  {
   "cell_type": "markdown",
   "id": "f0ef78b3-68d3-436b-a2a5-6b45c9779a5b",
   "metadata": {},
   "source": [
    "### Model Evaluation and validation \n",
    "\n",
    "- Model Evaluation is a process that uses some metrics which help us to analyze the performance of the model. As we all know that model development is a multi-step process and check should be kept on how well the model generalizes future predictions. Therefore evaluating a model plays a vital role so that we can judge the performance of our model. The evaluation also helps to analyze a model's key weaknessess. There are many metrics like accuracy, precision, recall, F1 score, Area under curve, Confusion metrix and Mean squared error.\n",
    "\n",
    "- The process that helps us evaluate the performance of a trained model is called Model Validation. It helps us in validating the machine learning model performance on new or unseen data. It also helps us confirm that the model achieves its intended purposes. Some of the model validation techniques are:-\n",
    "  1. Train/Test Split\n",
    "  2. K-fold Cross validation\n",
    "  3. Leave-One-Out Cross Validation\n",
    "  4. Leave-One-Group-Out Cross Validation\n",
    "  5. Nested Cross Validation"
   ]
  },
  {
   "cell_type": "markdown",
   "id": "69c5c06c-429a-4c40-97e3-18a687a52023",
   "metadata": {},
   "source": [
    "### Model Tuning"
   ]
  },
  {
   "cell_type": "markdown",
   "id": "7b0b228d-3564-44a2-9e84-4f505d03051a",
   "metadata": {},
   "source": [
    "### Model Testing"
   ]
  },
  {
   "cell_type": "markdown",
   "id": "a30787c6-0266-4f6c-ad41-61d6e5f561ab",
   "metadata": {},
   "source": [
    "### Deployment and Monitoring"
   ]
  },
  {
   "cell_type": "code",
   "execution_count": null,
   "id": "a175d3aa-9e6e-489f-954d-5f6189715dad",
   "metadata": {},
   "outputs": [],
   "source": []
  }
 ],
 "metadata": {
  "kernelspec": {
   "display_name": "Python 3 (ipykernel)",
   "language": "python",
   "name": "python3"
  },
  "language_info": {
   "codemirror_mode": {
    "name": "ipython",
    "version": 3
   },
   "file_extension": ".py",
   "mimetype": "text/x-python",
   "name": "python",
   "nbconvert_exporter": "python",
   "pygments_lexer": "ipython3",
   "version": "3.12.2"
  }
 },
 "nbformat": 4,
 "nbformat_minor": 5
}
